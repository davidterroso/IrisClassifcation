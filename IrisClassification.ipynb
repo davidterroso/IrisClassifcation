{
 "cells": [
  {
   "cell_type": "markdown",
   "metadata": {},
   "source": [
    "# Iris Plant Classification\n",
    "\n",
    "Based on the Fisher Iris dataset https://archive.ics.uci.edu/dataset/53/iris. This dataset, from Fisher (1936), is a commonly known dataset used to test classification methods. It is composed by 3 classes, with each containing 50 instances, with each instance being a plant. The prediction expected is to classifiy each plant in a type of iris plant. "
   ]
  },
  {
   "cell_type": "code",
   "execution_count": 5,
   "metadata": {},
   "outputs": [],
   "source": [
    "# Code available in the https://archive.ics.uci.edu/dataset/53/iris web page\n",
    "# Suggestion by the authors\n",
    "# Optional to run, another implementation (below) was used\n",
    "\n",
    "from ucimlrepo import fetch_ucirepo \n",
    "  \n",
    "iris = fetch_ucirepo(id=53) \n",
    "  \n",
    "X = iris.data.features \n",
    "y = iris.data.targets\n"
   ]
  },
  {
   "cell_type": "markdown",
   "metadata": {},
   "source": [
    "### Data Fetching\n",
    "\n",
    "The previous method is suggested in the website. However, to reduce the number of libraries used, the data is imported using the CSV file available."
   ]
  },
  {
   "cell_type": "code",
   "execution_count": 34,
   "metadata": {},
   "outputs": [],
   "source": [
    "import pandas as pd\n",
    "\n",
    "data_path = \"data/data.csv\"\n",
    "iris = pd.read_csv(data_path)\n",
    "  \n",
    "X = iris.iloc[:,0:iris.shape[1] - 1].to_numpy()\n",
    "y = iris.iloc[:,iris.shape[1] - 1].to_numpy()"
   ]
  }
 ],
 "metadata": {
  "kernelspec": {
   "display_name": "Python 3",
   "language": "python",
   "name": "python3"
  },
  "language_info": {
   "codemirror_mode": {
    "name": "ipython",
    "version": 3
   },
   "file_extension": ".py",
   "mimetype": "text/x-python",
   "name": "python",
   "nbconvert_exporter": "python",
   "pygments_lexer": "ipython3",
   "version": "3.11.5"
  }
 },
 "nbformat": 4,
 "nbformat_minor": 2
}
